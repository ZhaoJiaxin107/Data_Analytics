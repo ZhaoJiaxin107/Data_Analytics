{
 "cells": [
  {
   "cell_type": "code",
   "execution_count": 1,
   "metadata": {
    "collapsed": true
   },
   "outputs": [],
   "source": [
    "import numpy as np\n",
    "from sklearn.model_selection import train_test_split\n",
    "from sklearn.svm import SVC\n",
    "from sklearn import metrics\n",
    "from sklearn.metrics import accuracy_score\n",
    "from sklearn.decomposition import PCA\n",
    "from sklearn.preprocessing import StandardScaler\n",
    "import matplotlib.pyplot as plt\n",
    "from matplotlib.colors import ListedColormap\n",
    "import pandas as pd\n",
    "from pandas import DataFrame,Series"
   ]
  },
  {
   "cell_type": "code",
   "execution_count": 2,
   "metadata": {},
   "outputs": [
    {
     "data": {
      "text/html": [
       "<div>\n",
       "<style>\n",
       "    .dataframe thead tr:only-child th {\n",
       "        text-align: right;\n",
       "    }\n",
       "\n",
       "    .dataframe thead th {\n",
       "        text-align: left;\n",
       "    }\n",
       "\n",
       "    .dataframe tbody tr th {\n",
       "        vertical-align: top;\n",
       "    }\n",
       "</style>\n",
       "<table border=\"1\" class=\"dataframe\">\n",
       "  <thead>\n",
       "    <tr style=\"text-align: right;\">\n",
       "      <th></th>\n",
       "      <th>id</th>\n",
       "      <th>date</th>\n",
       "      <th>price</th>\n",
       "      <th>bedrooms</th>\n",
       "      <th>bathrooms</th>\n",
       "      <th>sqft_living</th>\n",
       "      <th>sqft_lot</th>\n",
       "      <th>floors</th>\n",
       "      <th>country</th>\n",
       "    </tr>\n",
       "  </thead>\n",
       "  <tbody>\n",
       "    <tr>\n",
       "      <th>0</th>\n",
       "      <td>7129300520</td>\n",
       "      <td>2014/10/13</td>\n",
       "      <td>221900</td>\n",
       "      <td>3</td>\n",
       "      <td>1.00</td>\n",
       "      <td>1180</td>\n",
       "      <td>5650</td>\n",
       "      <td>1.0</td>\n",
       "      <td>USA</td>\n",
       "    </tr>\n",
       "    <tr>\n",
       "      <th>1</th>\n",
       "      <td>6414100192</td>\n",
       "      <td>2014/10/14</td>\n",
       "      <td>538000</td>\n",
       "      <td>3</td>\n",
       "      <td>2.25</td>\n",
       "      <td>2570</td>\n",
       "      <td>7242</td>\n",
       "      <td>2.0</td>\n",
       "      <td>USA</td>\n",
       "    </tr>\n",
       "    <tr>\n",
       "      <th>2</th>\n",
       "      <td>5631500400</td>\n",
       "      <td>2014/10/15</td>\n",
       "      <td>180000</td>\n",
       "      <td>2</td>\n",
       "      <td>1.00</td>\n",
       "      <td>770</td>\n",
       "      <td>10000</td>\n",
       "      <td>1.0</td>\n",
       "      <td>USA</td>\n",
       "    </tr>\n",
       "    <tr>\n",
       "      <th>3</th>\n",
       "      <td>2487200875</td>\n",
       "      <td>2014/10/16</td>\n",
       "      <td>604000</td>\n",
       "      <td>4</td>\n",
       "      <td>3.00</td>\n",
       "      <td>1960</td>\n",
       "      <td>5000</td>\n",
       "      <td>1.0</td>\n",
       "      <td>USA</td>\n",
       "    </tr>\n",
       "    <tr>\n",
       "      <th>4</th>\n",
       "      <td>1954400510</td>\n",
       "      <td>2014/10/17</td>\n",
       "      <td>510000</td>\n",
       "      <td>3</td>\n",
       "      <td>2.00</td>\n",
       "      <td>1680</td>\n",
       "      <td>8080</td>\n",
       "      <td>1.0</td>\n",
       "      <td>USA</td>\n",
       "    </tr>\n",
       "    <tr>\n",
       "      <th>5</th>\n",
       "      <td>7237550310</td>\n",
       "      <td>2014/10/18</td>\n",
       "      <td>1225000</td>\n",
       "      <td>4</td>\n",
       "      <td>4.50</td>\n",
       "      <td>5420</td>\n",
       "      <td>101930</td>\n",
       "      <td>1.0</td>\n",
       "      <td>USA</td>\n",
       "    </tr>\n",
       "    <tr>\n",
       "      <th>6</th>\n",
       "      <td>1321400060</td>\n",
       "      <td>2014/10/19</td>\n",
       "      <td>257500</td>\n",
       "      <td>3</td>\n",
       "      <td>2.25</td>\n",
       "      <td>1715</td>\n",
       "      <td>6819</td>\n",
       "      <td>2.0</td>\n",
       "      <td>USA</td>\n",
       "    </tr>\n",
       "    <tr>\n",
       "      <th>7</th>\n",
       "      <td>2008000270</td>\n",
       "      <td>2014/10/20</td>\n",
       "      <td>291850</td>\n",
       "      <td>3</td>\n",
       "      <td>1.50</td>\n",
       "      <td>1060</td>\n",
       "      <td>9711</td>\n",
       "      <td>1.0</td>\n",
       "      <td>USA</td>\n",
       "    </tr>\n",
       "    <tr>\n",
       "      <th>8</th>\n",
       "      <td>2414600126</td>\n",
       "      <td>2014/10/21</td>\n",
       "      <td>229500</td>\n",
       "      <td>3</td>\n",
       "      <td>1.00</td>\n",
       "      <td>1780</td>\n",
       "      <td>7470</td>\n",
       "      <td>1.0</td>\n",
       "      <td>USA</td>\n",
       "    </tr>\n",
       "    <tr>\n",
       "      <th>9</th>\n",
       "      <td>3793500160</td>\n",
       "      <td>2014/10/22</td>\n",
       "      <td>323000</td>\n",
       "      <td>3</td>\n",
       "      <td>2.50</td>\n",
       "      <td>1890</td>\n",
       "      <td>6560</td>\n",
       "      <td>2.0</td>\n",
       "      <td>USA</td>\n",
       "    </tr>\n",
       "  </tbody>\n",
       "</table>\n",
       "</div>"
      ],
      "text/plain": [
       "           id        date    price  bedrooms  bathrooms  sqft_living  \\\n",
       "0  7129300520  2014/10/13   221900         3       1.00         1180   \n",
       "1  6414100192  2014/10/14   538000         3       2.25         2570   \n",
       "2  5631500400  2014/10/15   180000         2       1.00          770   \n",
       "3  2487200875  2014/10/16   604000         4       3.00         1960   \n",
       "4  1954400510  2014/10/17   510000         3       2.00         1680   \n",
       "5  7237550310  2014/10/18  1225000         4       4.50         5420   \n",
       "6  1321400060  2014/10/19   257500         3       2.25         1715   \n",
       "7  2008000270  2014/10/20   291850         3       1.50         1060   \n",
       "8  2414600126  2014/10/21   229500         3       1.00         1780   \n",
       "9  3793500160  2014/10/22   323000         3       2.50         1890   \n",
       "\n",
       "   sqft_lot  floors country  \n",
       "0      5650     1.0     USA  \n",
       "1      7242     2.0     USA  \n",
       "2     10000     1.0     USA  \n",
       "3      5000     1.0     USA  \n",
       "4      8080     1.0     USA  \n",
       "5    101930     1.0     USA  \n",
       "6      6819     2.0     USA  \n",
       "7      9711     1.0     USA  \n",
       "8      7470     1.0     USA  \n",
       "9      6560     2.0     USA  "
      ]
     },
     "execution_count": 2,
     "metadata": {},
     "output_type": "execute_result"
    }
   ],
   "source": [
    "data = pd.read_csv('C:/Users/lenovo/python_code/house.csv')\n",
    "data.head(10)"
   ]
  },
  {
   "cell_type": "code",
   "execution_count": 3,
   "metadata": {},
   "outputs": [
    {
     "data": {
      "text/html": [
       "<div>\n",
       "<style>\n",
       "    .dataframe thead tr:only-child th {\n",
       "        text-align: right;\n",
       "    }\n",
       "\n",
       "    .dataframe thead th {\n",
       "        text-align: left;\n",
       "    }\n",
       "\n",
       "    .dataframe tbody tr th {\n",
       "        vertical-align: top;\n",
       "    }\n",
       "</style>\n",
       "<table border=\"1\" class=\"dataframe\">\n",
       "  <thead>\n",
       "    <tr style=\"text-align: right;\">\n",
       "      <th></th>\n",
       "      <th>date</th>\n",
       "      <th>price</th>\n",
       "      <th>bedrooms</th>\n",
       "      <th>bathrooms</th>\n",
       "      <th>sqft_living</th>\n",
       "      <th>sqft_lot</th>\n",
       "      <th>floors</th>\n",
       "      <th>country</th>\n",
       "    </tr>\n",
       "    <tr>\n",
       "      <th>id</th>\n",
       "      <th></th>\n",
       "      <th></th>\n",
       "      <th></th>\n",
       "      <th></th>\n",
       "      <th></th>\n",
       "      <th></th>\n",
       "      <th></th>\n",
       "      <th></th>\n",
       "    </tr>\n",
       "  </thead>\n",
       "  <tbody>\n",
       "    <tr>\n",
       "      <th>7129300520</th>\n",
       "      <td>2014/10/13</td>\n",
       "      <td>221900</td>\n",
       "      <td>3</td>\n",
       "      <td>1.00</td>\n",
       "      <td>1180</td>\n",
       "      <td>5650</td>\n",
       "      <td>1.0</td>\n",
       "      <td>USA</td>\n",
       "    </tr>\n",
       "    <tr>\n",
       "      <th>6414100192</th>\n",
       "      <td>2014/10/14</td>\n",
       "      <td>538000</td>\n",
       "      <td>3</td>\n",
       "      <td>2.25</td>\n",
       "      <td>2570</td>\n",
       "      <td>7242</td>\n",
       "      <td>2.0</td>\n",
       "      <td>USA</td>\n",
       "    </tr>\n",
       "    <tr>\n",
       "      <th>5631500400</th>\n",
       "      <td>2014/10/15</td>\n",
       "      <td>180000</td>\n",
       "      <td>2</td>\n",
       "      <td>1.00</td>\n",
       "      <td>770</td>\n",
       "      <td>10000</td>\n",
       "      <td>1.0</td>\n",
       "      <td>USA</td>\n",
       "    </tr>\n",
       "    <tr>\n",
       "      <th>2487200875</th>\n",
       "      <td>2014/10/16</td>\n",
       "      <td>604000</td>\n",
       "      <td>4</td>\n",
       "      <td>3.00</td>\n",
       "      <td>1960</td>\n",
       "      <td>5000</td>\n",
       "      <td>1.0</td>\n",
       "      <td>USA</td>\n",
       "    </tr>\n",
       "    <tr>\n",
       "      <th>1954400510</th>\n",
       "      <td>2014/10/17</td>\n",
       "      <td>510000</td>\n",
       "      <td>3</td>\n",
       "      <td>2.00</td>\n",
       "      <td>1680</td>\n",
       "      <td>8080</td>\n",
       "      <td>1.0</td>\n",
       "      <td>USA</td>\n",
       "    </tr>\n",
       "  </tbody>\n",
       "</table>\n",
       "</div>"
      ],
      "text/plain": [
       "                  date   price  bedrooms  bathrooms  sqft_living  sqft_lot  \\\n",
       "id                                                                           \n",
       "7129300520  2014/10/13  221900         3       1.00         1180      5650   \n",
       "6414100192  2014/10/14  538000         3       2.25         2570      7242   \n",
       "5631500400  2014/10/15  180000         2       1.00          770     10000   \n",
       "2487200875  2014/10/16  604000         4       3.00         1960      5000   \n",
       "1954400510  2014/10/17  510000         3       2.00         1680      8080   \n",
       "\n",
       "            floors country  \n",
       "id                          \n",
       "7129300520     1.0     USA  \n",
       "6414100192     2.0     USA  \n",
       "5631500400     1.0     USA  \n",
       "2487200875     1.0     USA  \n",
       "1954400510     1.0     USA  "
      ]
     },
     "execution_count": 3,
     "metadata": {},
     "output_type": "execute_result"
    }
   ],
   "source": [
    "data=data.set_index('id')\n",
    "data.head()"
   ]
  },
  {
   "cell_type": "code",
   "execution_count": 4,
   "metadata": {},
   "outputs": [
    {
     "data": {
      "text/html": [
       "<div>\n",
       "<style>\n",
       "    .dataframe thead tr:only-child th {\n",
       "        text-align: right;\n",
       "    }\n",
       "\n",
       "    .dataframe thead th {\n",
       "        text-align: left;\n",
       "    }\n",
       "\n",
       "    .dataframe tbody tr th {\n",
       "        vertical-align: top;\n",
       "    }\n",
       "</style>\n",
       "<table border=\"1\" class=\"dataframe\">\n",
       "  <thead>\n",
       "    <tr style=\"text-align: right;\">\n",
       "      <th></th>\n",
       "      <th>bathrooms</th>\n",
       "      <th>sqft_living</th>\n",
       "      <th>sqft_lot</th>\n",
       "      <th>floors</th>\n",
       "    </tr>\n",
       "    <tr>\n",
       "      <th>id</th>\n",
       "      <th></th>\n",
       "      <th></th>\n",
       "      <th></th>\n",
       "      <th></th>\n",
       "    </tr>\n",
       "  </thead>\n",
       "  <tbody>\n",
       "    <tr>\n",
       "      <th>7129300520</th>\n",
       "      <td>1.00</td>\n",
       "      <td>1180</td>\n",
       "      <td>5650</td>\n",
       "      <td>1.0</td>\n",
       "    </tr>\n",
       "    <tr>\n",
       "      <th>6414100192</th>\n",
       "      <td>2.25</td>\n",
       "      <td>2570</td>\n",
       "      <td>7242</td>\n",
       "      <td>2.0</td>\n",
       "    </tr>\n",
       "    <tr>\n",
       "      <th>5631500400</th>\n",
       "      <td>1.00</td>\n",
       "      <td>770</td>\n",
       "      <td>10000</td>\n",
       "      <td>1.0</td>\n",
       "    </tr>\n",
       "    <tr>\n",
       "      <th>2487200875</th>\n",
       "      <td>3.00</td>\n",
       "      <td>1960</td>\n",
       "      <td>5000</td>\n",
       "      <td>1.0</td>\n",
       "    </tr>\n",
       "    <tr>\n",
       "      <th>1954400510</th>\n",
       "      <td>2.00</td>\n",
       "      <td>1680</td>\n",
       "      <td>8080</td>\n",
       "      <td>1.0</td>\n",
       "    </tr>\n",
       "    <tr>\n",
       "      <th>7237550310</th>\n",
       "      <td>4.50</td>\n",
       "      <td>5420</td>\n",
       "      <td>101930</td>\n",
       "      <td>1.0</td>\n",
       "    </tr>\n",
       "    <tr>\n",
       "      <th>1321400060</th>\n",
       "      <td>2.25</td>\n",
       "      <td>1715</td>\n",
       "      <td>6819</td>\n",
       "      <td>2.0</td>\n",
       "    </tr>\n",
       "    <tr>\n",
       "      <th>2008000270</th>\n",
       "      <td>1.50</td>\n",
       "      <td>1060</td>\n",
       "      <td>9711</td>\n",
       "      <td>1.0</td>\n",
       "    </tr>\n",
       "    <tr>\n",
       "      <th>2414600126</th>\n",
       "      <td>1.00</td>\n",
       "      <td>1780</td>\n",
       "      <td>7470</td>\n",
       "      <td>1.0</td>\n",
       "    </tr>\n",
       "    <tr>\n",
       "      <th>3793500160</th>\n",
       "      <td>2.50</td>\n",
       "      <td>1890</td>\n",
       "      <td>6560</td>\n",
       "      <td>2.0</td>\n",
       "    </tr>\n",
       "  </tbody>\n",
       "</table>\n",
       "</div>"
      ],
      "text/plain": [
       "            bathrooms  sqft_living  sqft_lot  floors\n",
       "id                                                  \n",
       "7129300520       1.00         1180      5650     1.0\n",
       "6414100192       2.25         2570      7242     2.0\n",
       "5631500400       1.00          770     10000     1.0\n",
       "2487200875       3.00         1960      5000     1.0\n",
       "1954400510       2.00         1680      8080     1.0\n",
       "7237550310       4.50         5420    101930     1.0\n",
       "1321400060       2.25         1715      6819     2.0\n",
       "2008000270       1.50         1060      9711     1.0\n",
       "2414600126       1.00         1780      7470     1.0\n",
       "3793500160       2.50         1890      6560     2.0"
      ]
     },
     "execution_count": 4,
     "metadata": {},
     "output_type": "execute_result"
    }
   ],
   "source": [
    "x = data.iloc[:,3:7]\n",
    "x.head(10)"
   ]
  },
  {
   "cell_type": "code",
   "execution_count": 5,
   "metadata": {},
   "outputs": [
    {
     "data": {
      "text/plain": [
       "id\n",
       "7129300520     221900\n",
       "6414100192     538000\n",
       "5631500400     180000\n",
       "2487200875     604000\n",
       "1954400510     510000\n",
       "7237550310    1225000\n",
       "1321400060     257500\n",
       "2008000270     291850\n",
       "2414600126     229500\n",
       "3793500160     323000\n",
       "Name: price, dtype: int64"
      ]
     },
     "execution_count": 5,
     "metadata": {},
     "output_type": "execute_result"
    }
   ],
   "source": [
    "y = data['price']\n",
    "y.head(10)"
   ]
  },
  {
   "cell_type": "code",
   "execution_count": 6,
   "metadata": {
    "collapsed": true
   },
   "outputs": [],
   "source": [
    "x_train,x_test,y_train,y_test = train_test_split(x,y,test_size=0.2,random_state=1)"
   ]
  },
  {
   "cell_type": "code",
   "execution_count": 7,
   "metadata": {},
   "outputs": [
    {
     "name": "stdout",
     "output_type": "stream",
     "text": [
      "(399, 4) (399,)\n",
      "(100, 4) (100,)\n"
     ]
    }
   ],
   "source": [
    "print(x_train.shape,y_train.shape)\n",
    "print(x_test.shape,y_test.shape)"
   ]
  },
  {
   "cell_type": "code",
   "execution_count": 8,
   "metadata": {},
   "outputs": [
    {
     "data": {
      "text/plain": [
       "SVC(C=0.8, cache_size=200, class_weight=None, coef0=0.0,\n",
       "  decision_function_shape='ovo', degree=3, gamma=0.1, kernel='rbf',\n",
       "  max_iter=-1, probability=False, random_state=None, shrinking=True,\n",
       "  tol=0.001, verbose=False)"
      ]
     },
     "execution_count": 8,
     "metadata": {},
     "output_type": "execute_result"
    }
   ],
   "source": [
    "classifier = SVC(kernel='rbf',gamma=0.1,decision_function_shape='ovo',C=0.8)\n",
    "classifier.fit(x_train,y_train)"
   ]
  },
  {
   "cell_type": "code",
   "execution_count": 9,
   "metadata": {},
   "outputs": [
    {
     "name": "stdout",
     "output_type": "stream",
     "text": [
      "[445000 445000 445000 445000 445000 445000 425000 445000 445000 445000\n",
      " 445000 445000 445000 445000 445000 445000 445000 445000 445000 445000\n",
      " 445000 445000 445000 445000 445000 445000 445000 445000 445000 445000\n",
      " 445000 445000 445000 445000 445000 445000 445000 445000 445000 445000\n",
      " 445000 445000 445000 445000 445000 445000 445000 445000 445000 445000\n",
      " 445000 445000 445000 445000 445000 445000 445000 445000 445000 445000\n",
      " 445000 445000 445000 445000 445000 445000 445000 445000 445000 445000\n",
      " 445000 445000 445000 445000 445000 445000 445000 445000 445000 445000\n",
      " 445000 445000 445000 445000 445000 445000 445000 445000 445000 445000\n",
      " 445000 445000 445000 445000 445000 445000 445000 445000 445000 445000]\n"
     ]
    }
   ],
   "source": [
    "result = classifier.predict(x_test)\n",
    "print(result)"
   ]
  },
  {
   "cell_type": "code",
   "execution_count": 10,
   "metadata": {},
   "outputs": [
    {
     "name": "stdout",
     "output_type": "stream",
     "text": [
      "0\n"
     ]
    }
   ],
   "source": [
    "print(sum(result==y_test))"
   ]
  },
  {
   "cell_type": "code",
   "execution_count": 11,
   "metadata": {},
   "outputs": [
    {
     "name": "stdout",
     "output_type": "stream",
     "text": [
      "             precision    recall  f1-score   support\n",
      "\n",
      "     139000       0.00      0.00      0.00         1\n",
      "     153000       0.00      0.00      0.00         1\n",
      "     159075       0.00      0.00      0.00         1\n",
      "     180250       0.00      0.00      0.00         1\n",
      "     188500       0.00      0.00      0.00         1\n",
      "     199000       0.00      0.00      0.00         1\n",
      "     205425       0.00      0.00      0.00         1\n",
      "     225000       0.00      0.00      0.00         1\n",
      "     242000       0.00      0.00      0.00         1\n",
      "     243500       0.00      0.00      0.00         1\n",
      "     249000       0.00      0.00      0.00         1\n",
      "     255000       0.00      0.00      0.00         1\n",
      "     257500       0.00      0.00      0.00         1\n",
      "     260000       0.00      0.00      0.00         1\n",
      "     265000       0.00      0.00      0.00         1\n",
      "     270000       0.00      0.00      0.00         1\n",
      "     279950       0.00      0.00      0.00         1\n",
      "     280000       0.00      0.00      0.00         2\n",
      "     287000       0.00      0.00      0.00         1\n",
      "     291000       0.00      0.00      0.00         1\n",
      "     297000       0.00      0.00      0.00         1\n",
      "     301000       0.00      0.00      0.00         1\n",
      "     305000       0.00      0.00      0.00         1\n",
      "     309950       0.00      0.00      0.00         1\n",
      "     313000       0.00      0.00      0.00         1\n",
      "     315000       0.00      0.00      0.00         1\n",
      "     317625       0.00      0.00      0.00         1\n",
      "     320000       0.00      0.00      0.00         1\n",
      "     322500       0.00      0.00      0.00         1\n",
      "     330000       0.00      0.00      0.00         1\n",
      "     355000       0.00      0.00      0.00         1\n",
      "     360000       0.00      0.00      0.00         1\n",
      "     370000       0.00      0.00      0.00         1\n",
      "     380000       0.00      0.00      0.00         2\n",
      "     382888       0.00      0.00      0.00         1\n",
      "     385000       0.00      0.00      0.00         1\n",
      "     389999       0.00      0.00      0.00         1\n",
      "     396675       0.00      0.00      0.00         1\n",
      "     399950       0.00      0.00      0.00         1\n",
      "     402000       0.00      0.00      0.00         1\n",
      "     404000       0.00      0.00      0.00         1\n",
      "     410000       0.00      0.00      0.00         1\n",
      "     415000       0.00      0.00      0.00         1\n",
      "     416000       0.00      0.00      0.00         1\n",
      "     420000       0.00      0.00      0.00         1\n",
      "     425000       0.00      0.00      0.00         0\n",
      "     426250       0.00      0.00      0.00         1\n",
      "     429300       0.00      0.00      0.00         1\n",
      "     430000       0.00      0.00      0.00         1\n",
      "     433000       0.00      0.00      0.00         1\n",
      "     445000       0.00      0.00      0.00         0\n",
      "     450000       0.00      0.00      0.00         1\n",
      "     454280       0.00      0.00      0.00         1\n",
      "     455000       0.00      0.00      0.00         1\n",
      "     460000       0.00      0.00      0.00         1\n",
      "     468000       0.00      0.00      0.00         1\n",
      "     477000       0.00      0.00      0.00         1\n",
      "     485000       0.00      0.00      0.00         1\n",
      "     490000       0.00      0.00      0.00         1\n",
      "     490500       0.00      0.00      0.00         1\n",
      "     496000       0.00      0.00      0.00         1\n",
      "     499950       0.00      0.00      0.00         1\n",
      "     500000       0.00      0.00      0.00         1\n",
      "     505000       0.00      0.00      0.00         1\n",
      "     510000       0.00      0.00      0.00         1\n",
      "     530000       0.00      0.00      0.00         1\n",
      "     535000       0.00      0.00      0.00         1\n",
      "     536500       0.00      0.00      0.00         1\n",
      "     540500       0.00      0.00      0.00         1\n",
      "     550000       0.00      0.00      0.00         1\n",
      "     557800       0.00      0.00      0.00         1\n",
      "     560000       0.00      0.00      0.00         1\n",
      "     575000       0.00      0.00      0.00         1\n",
      "     585188       0.00      0.00      0.00         1\n",
      "     590000       0.00      0.00      0.00         1\n",
      "     597750       0.00      0.00      0.00         1\n",
      "     601150       0.00      0.00      0.00         1\n",
      "     625000       0.00      0.00      0.00         1\n",
      "     653000       0.00      0.00      0.00         1\n",
      "     699950       0.00      0.00      0.00         1\n",
      "     719000       0.00      0.00      0.00         1\n",
      "     751000       0.00      0.00      0.00         1\n",
      "     780000       0.00      0.00      0.00         1\n",
      "     784000       0.00      0.00      0.00         1\n",
      "     785000       0.00      0.00      0.00         1\n",
      "     799000       0.00      0.00      0.00         1\n",
      "     800000       0.00      0.00      0.00         1\n",
      "     830000       0.00      0.00      0.00         1\n",
      "     879000       0.00      0.00      0.00         1\n",
      "     890000       0.00      0.00      0.00         1\n",
      "     900000       0.00      0.00      0.00         1\n",
      "     940000       0.00      0.00      0.00         1\n",
      "     975000       0.00      0.00      0.00         2\n",
      "    1010000       0.00      0.00      0.00         1\n",
      "    1072000       0.00      0.00      0.00         1\n",
      "    1095000       0.00      0.00      0.00         1\n",
      "    1225000       0.00      0.00      0.00         1\n",
      "    1438890       0.00      0.00      0.00         1\n",
      "    2400000       0.00      0.00      0.00         1\n",
      "\n",
      "avg / total       0.00      0.00      0.00       100\n",
      "\n"
     ]
    },
    {
     "name": "stderr",
     "output_type": "stream",
     "text": [
      "D:\\Anaconda\\lib\\site-packages\\sklearn\\metrics\\classification.py:1113: UndefinedMetricWarning: Precision and F-score are ill-defined and being set to 0.0 in labels with no predicted samples.\n",
      "  'precision', 'predicted', average, warn_for)\n",
      "D:\\Anaconda\\lib\\site-packages\\sklearn\\metrics\\classification.py:1115: UndefinedMetricWarning: Recall and F-score are ill-defined and being set to 0.0 in labels with no true samples.\n",
      "  'recall', 'true', average, warn_for)\n"
     ]
    }
   ],
   "source": [
    "print(metrics.classification_report(y_test,result))"
   ]
  },
  {
   "cell_type": "code",
   "execution_count": 13,
   "metadata": {
    "collapsed": true
   },
   "outputs": [],
   "source": [
    "A = x_test\n",
    "A = StandardScaler().fit(A).transform(A)"
   ]
  },
  {
   "cell_type": "code",
   "execution_count": 14,
   "metadata": {
    "collapsed": true
   },
   "outputs": [],
   "source": [
    "pca = PCA(n_components=2)"
   ]
  },
  {
   "cell_type": "code",
   "execution_count": 15,
   "metadata": {
    "collapsed": true
   },
   "outputs": [],
   "source": [
    "newData = pca.fit(A).transform(A)"
   ]
  },
  {
   "cell_type": "code",
   "execution_count": 16,
   "metadata": {},
   "outputs": [
    {
     "name": "stdout",
     "output_type": "stream",
     "text": [
      "[[ 0.78215411 -1.03306431]\n",
      " [ 1.2654091  -0.35971307]\n",
      " [-0.20051137 -1.04150018]\n",
      " [ 0.08435988 -1.15573418]\n",
      " [ 0.04907165  0.58508734]\n",
      " [ 1.39481414  0.75929441]\n",
      " [-1.36458694 -0.09084826]\n",
      " [-1.57193978 -0.13928662]\n",
      " [ 0.06312214 -1.1913558 ]\n",
      " [ 0.25116735 -1.12541001]\n",
      " [ 0.96893539 -0.74556862]\n",
      " [ 1.09724526 -0.33047952]\n",
      " [ 1.62511953  2.93502415]\n",
      " [-0.55339522  0.59070435]\n",
      " [ 0.20184865  0.5361717 ]\n",
      " [ 2.20094711  0.62215386]\n",
      " [ 0.79580228 -0.98522667]\n",
      " [-1.90112945  0.81060467]\n",
      " [-0.6078226  -2.62831937]\n",
      " [-0.41900331 -0.84256091]\n",
      " [-0.29473751 -0.9575858 ]\n",
      " [-0.93212394  0.58493199]\n",
      " [ 0.53347476 -0.98867072]\n",
      " [ 0.62376778  0.57030983]\n",
      " [-0.67304206 -0.93104303]\n",
      " [-0.96335828  0.56996206]\n",
      " [ 0.33842355  0.44760771]\n",
      " [-1.16259254  0.61579347]\n",
      " [-0.75878877  0.65115076]\n",
      " [ 0.26582052 -0.90751908]\n",
      " [ 1.11438005 -0.98721867]\n",
      " [-0.91993496  0.46235905]\n",
      " [-1.39336439  0.70185308]\n",
      " [ 3.52387438  1.01558444]\n",
      " [-0.31625021  0.64503587]\n",
      " [-2.15893643  0.67754065]\n",
      " [-0.62114695  0.56437628]\n",
      " [-1.1127654  -0.16654754]\n",
      " [-1.84809774  0.69998683]\n",
      " [-1.29937704 -0.90975271]\n",
      " [-1.1964324   0.63387213]\n",
      " [ 1.12016407 -0.22385857]\n",
      " [ 0.68884287 -1.10226282]\n",
      " [ 0.66389646 -1.04432151]\n",
      " [-1.51333673 -0.1158305 ]\n",
      " [ 0.50644901 -1.08389215]\n",
      " [ 0.93468728 -1.08904677]\n",
      " [ 0.6769752   0.6653686 ]\n",
      " [-0.05485556  0.49226782]\n",
      " [ 1.40374315 -1.09391858]\n",
      " [ 0.78192504  0.41234698]\n",
      " [ 5.27731878  1.61865861]\n",
      " [-2.39279201  0.58464982]\n",
      " [-0.7161636   0.63533459]\n",
      " [-1.10990746  0.63598134]\n",
      " [-0.43403025 -1.02241271]\n",
      " [ 0.40594578 -1.03460928]\n",
      " [-1.38556442 -0.11356043]\n",
      " [ 0.45414171 -1.07184268]\n",
      " [ 2.57442843  4.91394066]\n",
      " [ 1.69005613 -0.86980821]\n",
      " [-0.04498814 -0.03448626]\n",
      " [-1.23333704  0.50379305]\n",
      " [ 1.146983   -1.04479075]\n",
      " [ 0.11567412  0.5595961 ]\n",
      " [ 0.64326929  0.70861778]\n",
      " [-2.15508106  0.65906134]\n",
      " [ 1.69452767 -0.98703743]\n",
      " [-1.8546694   0.72638311]\n",
      " [-2.0238554   0.6421778 ]\n",
      " [ 1.37290822  0.61695358]\n",
      " [-0.12089283  0.97936254]\n",
      " [ 0.96689827 -1.04749288]\n",
      " [-1.0554897   0.70230924]\n",
      " [ 1.48164455 -1.24929072]\n",
      " [ 0.50062711 -0.98140078]\n",
      " [-2.0808402   0.68380057]\n",
      " [ 0.46849703  1.71847523]\n",
      " [ 0.51827965 -1.15717441]\n",
      " [-1.18926814  0.65836152]\n",
      " [-1.0430594  -0.8664972 ]\n",
      " [-1.38791985 -0.12998406]\n",
      " [ 4.50650808  1.64814515]\n",
      " [-0.78932643  0.68058322]\n",
      " [ 1.7013024  -0.80105338]\n",
      " [-0.70026173 -0.76465828]\n",
      " [ 0.90118236  0.5250643 ]\n",
      " [-0.65908168  0.52569501]\n",
      " [ 2.53634731 -1.14497411]\n",
      " [-1.01552903  0.59471349]\n",
      " [ 0.02502139 -1.04406441]\n",
      " [-0.32993963 -1.10309729]\n",
      " [ 0.07003973 -1.06791812]\n",
      " [-0.51986712  1.34458137]\n",
      " [-1.94174925  0.66763638]\n",
      " [ 0.70489309 -1.51802044]\n",
      " [-1.87562117  0.72865991]\n",
      " [-0.6955374  -0.19598453]\n",
      " [ 1.22128096  0.27057061]\n",
      " [-2.3418938   0.73820001]]\n"
     ]
    }
   ],
   "source": [
    "print(newData)"
   ]
  },
  {
   "cell_type": "code",
   "execution_count": 17,
   "metadata": {
    "collapsed": true
   },
   "outputs": [],
   "source": [
    "plt.figure()\n",
    "light = ListedColormap(['#FFAAAA','#AAFFAA','#AAAAFF'])\n",
    "bold = ListedColormap(['#000000','#00FF00','#FFFF00'])"
   ]
  },
  {
   "cell_type": "code",
   "execution_count": 18,
   "metadata": {},
   "outputs": [
    {
     "data": {
      "text/plain": [
       "<matplotlib.text.Text at 0x26bb8d178d0>"
      ]
     },
     "execution_count": 18,
     "metadata": {},
     "output_type": "execute_result"
    }
   ],
   "source": [
    "plt.xlabel(\"other factors\",fontsize=13)\n",
    "plt.ylabel(\"price\",fontsize=13)"
   ]
  },
  {
   "cell_type": "code",
   "execution_count": 19,
   "metadata": {},
   "outputs": [
    {
     "data": {
      "text/plain": [
       "<matplotlib.collections.PathCollection at 0x26bb8d70fd0>"
      ]
     },
     "execution_count": 19,
     "metadata": {},
     "output_type": "execute_result"
    }
   ],
   "source": [
    "plt.scatter(newData[:,0],newData[:,1],c=y_test,cmap=bold,s=50)"
   ]
  },
  {
   "cell_type": "code",
   "execution_count": 20,
   "metadata": {},
   "outputs": [
    {
     "data": {
      "image/png": "[encoded data removed]",
      "text/plain": [
       "<matplotlib.figure.Figure at 0x26bb8916668>"
      ]
     },
     "metadata": {},
     "output_type": "display_data"
    }
   ],
   "source": [
    "plt.title('House Price')\n",
    "plt.show()"
   ]
  }
 ],
 "metadata": {
  "kernelspec": {
   "display_name": "Python 3",
   "language": "python",
   "name": "python3"
  },
  "language_info": {
   "codemirror_mode": {
    "name": "ipython",
    "version": 3
   },
   "file_extension": ".py",
   "mimetype": "text/x-python",
   "name": "python",
   "nbconvert_exporter": "python",
   "pygments_lexer": "ipython3",
   "version": "3.6.2"
  }
 },
 "nbformat": 4,
 "nbformat_minor": 2
}
