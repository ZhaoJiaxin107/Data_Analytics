{
 "cells": [
  {
   "cell_type": "code",
   "execution_count": 1,
   "metadata": {
    "collapsed": true
   },
   "outputs": [],
   "source": [
    "import numpy as np\n",
    "from sklearn.model_selection import train_test_split\n",
    "from sklearn.svm import SVC\n",
    "from sklearn import metrics\n",
    "from sklearn.metrics import accuracy_score\n",
    "from sklearn.decomposition import PCA\n",
    "from sklearn.preprocessing import StandardScaler\n",
    "import matplotlib.pyplot as plt\n",
    "from matplotlib.colors import ListedColormap\n",
    "import pandas as pd\n",
    "from pandas import DataFrame,Series\n",
    "import matplotlib as mpl\n",
    "from matplotlib import colors"
   ]
  },
  {
   "cell_type": "code",
   "execution_count": 2,
   "metadata": {},
   "outputs": [
    {
     "data": {
      "text/html": [
       "<div>\n",
       "<style>\n",
       "    .dataframe thead tr:only-child th {\n",
       "        text-align: right;\n",
       "    }\n",
       "\n",
       "    .dataframe thead th {\n",
       "        text-align: left;\n",
       "    }\n",
       "\n",
       "    .dataframe tbody tr th {\n",
       "        vertical-align: top;\n",
       "    }\n",
       "</style>\n",
       "<table border=\"1\" class=\"dataframe\">\n",
       "  <thead>\n",
       "    <tr style=\"text-align: right;\">\n",
       "      <th></th>\n",
       "      <th>id</th>\n",
       "      <th>date</th>\n",
       "      <th>price</th>\n",
       "      <th>bedrooms</th>\n",
       "      <th>bathrooms</th>\n",
       "      <th>sqft_living</th>\n",
       "      <th>sqft_lot</th>\n",
       "      <th>floors</th>\n",
       "      <th>country</th>\n",
       "    </tr>\n",
       "  </thead>\n",
       "  <tbody>\n",
       "    <tr>\n",
       "      <th>0</th>\n",
       "      <td>7129300520</td>\n",
       "      <td>2014/10/13</td>\n",
       "      <td>221900</td>\n",
       "      <td>3</td>\n",
       "      <td>1.00</td>\n",
       "      <td>1180</td>\n",
       "      <td>5650</td>\n",
       "      <td>1.0</td>\n",
       "      <td>USA</td>\n",
       "    </tr>\n",
       "    <tr>\n",
       "      <th>1</th>\n",
       "      <td>6414100192</td>\n",
       "      <td>2014/10/14</td>\n",
       "      <td>538000</td>\n",
       "      <td>3</td>\n",
       "      <td>2.25</td>\n",
       "      <td>2570</td>\n",
       "      <td>7242</td>\n",
       "      <td>2.0</td>\n",
       "      <td>USA</td>\n",
       "    </tr>\n",
       "    <tr>\n",
       "      <th>2</th>\n",
       "      <td>5631500400</td>\n",
       "      <td>2014/10/15</td>\n",
       "      <td>180000</td>\n",
       "      <td>2</td>\n",
       "      <td>1.00</td>\n",
       "      <td>770</td>\n",
       "      <td>10000</td>\n",
       "      <td>1.0</td>\n",
       "      <td>USA</td>\n",
       "    </tr>\n",
       "    <tr>\n",
       "      <th>3</th>\n",
       "      <td>2487200875</td>\n",
       "      <td>2014/10/16</td>\n",
       "      <td>604000</td>\n",
       "      <td>4</td>\n",
       "      <td>3.00</td>\n",
       "      <td>1960</td>\n",
       "      <td>5000</td>\n",
       "      <td>1.0</td>\n",
       "      <td>USA</td>\n",
       "    </tr>\n",
       "    <tr>\n",
       "      <th>4</th>\n",
       "      <td>1954400510</td>\n",
       "      <td>2014/10/17</td>\n",
       "      <td>510000</td>\n",
       "      <td>3</td>\n",
       "      <td>2.00</td>\n",
       "      <td>1680</td>\n",
       "      <td>8080</td>\n",
       "      <td>1.0</td>\n",
       "      <td>USA</td>\n",
       "    </tr>\n",
       "    <tr>\n",
       "      <th>5</th>\n",
       "      <td>7237550310</td>\n",
       "      <td>2014/10/18</td>\n",
       "      <td>1225000</td>\n",
       "      <td>4</td>\n",
       "      <td>4.50</td>\n",
       "      <td>5420</td>\n",
       "      <td>101930</td>\n",
       "      <td>1.0</td>\n",
       "      <td>USA</td>\n",
       "    </tr>\n",
       "    <tr>\n",
       "      <th>6</th>\n",
       "      <td>1321400060</td>\n",
       "      <td>2014/10/19</td>\n",
       "      <td>257500</td>\n",
       "      <td>3</td>\n",
       "      <td>2.25</td>\n",
       "      <td>1715</td>\n",
       "      <td>6819</td>\n",
       "      <td>2.0</td>\n",
       "      <td>USA</td>\n",
       "    </tr>\n",
       "    <tr>\n",
       "      <th>7</th>\n",
       "      <td>2008000270</td>\n",
       "      <td>2014/10/20</td>\n",
       "      <td>291850</td>\n",
       "      <td>3</td>\n",
       "      <td>1.50</td>\n",
       "      <td>1060</td>\n",
       "      <td>9711</td>\n",
       "      <td>1.0</td>\n",
       "      <td>USA</td>\n",
       "    </tr>\n",
       "    <tr>\n",
       "      <th>8</th>\n",
       "      <td>2414600126</td>\n",
       "      <td>2014/10/21</td>\n",
       "      <td>229500</td>\n",
       "      <td>3</td>\n",
       "      <td>1.00</td>\n",
       "      <td>1780</td>\n",
       "      <td>7470</td>\n",
       "      <td>1.0</td>\n",
       "      <td>USA</td>\n",
       "    </tr>\n",
       "    <tr>\n",
       "      <th>9</th>\n",
       "      <td>3793500160</td>\n",
       "      <td>2014/10/22</td>\n",
       "      <td>323000</td>\n",
       "      <td>3</td>\n",
       "      <td>2.50</td>\n",
       "      <td>1890</td>\n",
       "      <td>6560</td>\n",
       "      <td>2.0</td>\n",
       "      <td>USA</td>\n",
       "    </tr>\n",
       "  </tbody>\n",
       "</table>\n",
       "</div>"
      ],
      "text/plain": [
       "           id        date    price  bedrooms  bathrooms  sqft_living  \\\n",
       "0  7129300520  2014/10/13   221900         3       1.00         1180   \n",
       "1  6414100192  2014/10/14   538000         3       2.25         2570   \n",
       "2  5631500400  2014/10/15   180000         2       1.00          770   \n",
       "3  2487200875  2014/10/16   604000         4       3.00         1960   \n",
       "4  1954400510  2014/10/17   510000         3       2.00         1680   \n",
       "5  7237550310  2014/10/18  1225000         4       4.50         5420   \n",
       "6  1321400060  2014/10/19   257500         3       2.25         1715   \n",
       "7  2008000270  2014/10/20   291850         3       1.50         1060   \n",
       "8  2414600126  2014/10/21   229500         3       1.00         1780   \n",
       "9  3793500160  2014/10/22   323000         3       2.50         1890   \n",
       "\n",
       "   sqft_lot  floors country  \n",
       "0      5650     1.0     USA  \n",
       "1      7242     2.0     USA  \n",
       "2     10000     1.0     USA  \n",
       "3      5000     1.0     USA  \n",
       "4      8080     1.0     USA  \n",
       "5    101930     1.0     USA  \n",
       "6      6819     2.0     USA  \n",
       "7      9711     1.0     USA  \n",
       "8      7470     1.0     USA  \n",
       "9      6560     2.0     USA  "
      ]
     },
     "execution_count": 2,
     "metadata": {},
     "output_type": "execute_result"
    }
   ],
   "source": [
    "data = pd.read_csv('C:/Users/lenovo/python_code/house.csv')\n",
    "data.head(10)"
   ]
  },
  {
   "cell_type": "code",
   "execution_count": 3,
   "metadata": {},
   "outputs": [
    {
     "data": {
      "text/html": [
       "<div>\n",
       "<style>\n",
       "    .dataframe thead tr:only-child th {\n",
       "        text-align: right;\n",
       "    }\n",
       "\n",
       "    .dataframe thead th {\n",
       "        text-align: left;\n",
       "    }\n",
       "\n",
       "    .dataframe tbody tr th {\n",
       "        vertical-align: top;\n",
       "    }\n",
       "</style>\n",
       "<table border=\"1\" class=\"dataframe\">\n",
       "  <thead>\n",
       "    <tr style=\"text-align: right;\">\n",
       "      <th></th>\n",
       "      <th>sqft_living</th>\n",
       "      <th>sqft_lot</th>\n",
       "    </tr>\n",
       "  </thead>\n",
       "  <tbody>\n",
       "    <tr>\n",
       "      <th>0</th>\n",
       "      <td>1180</td>\n",
       "      <td>5650</td>\n",
       "    </tr>\n",
       "    <tr>\n",
       "      <th>1</th>\n",
       "      <td>2570</td>\n",
       "      <td>7242</td>\n",
       "    </tr>\n",
       "    <tr>\n",
       "      <th>2</th>\n",
       "      <td>770</td>\n",
       "      <td>10000</td>\n",
       "    </tr>\n",
       "    <tr>\n",
       "      <th>3</th>\n",
       "      <td>1960</td>\n",
       "      <td>5000</td>\n",
       "    </tr>\n",
       "    <tr>\n",
       "      <th>4</th>\n",
       "      <td>1680</td>\n",
       "      <td>8080</td>\n",
       "    </tr>\n",
       "    <tr>\n",
       "      <th>5</th>\n",
       "      <td>5420</td>\n",
       "      <td>101930</td>\n",
       "    </tr>\n",
       "    <tr>\n",
       "      <th>6</th>\n",
       "      <td>1715</td>\n",
       "      <td>6819</td>\n",
       "    </tr>\n",
       "    <tr>\n",
       "      <th>7</th>\n",
       "      <td>1060</td>\n",
       "      <td>9711</td>\n",
       "    </tr>\n",
       "    <tr>\n",
       "      <th>8</th>\n",
       "      <td>1780</td>\n",
       "      <td>7470</td>\n",
       "    </tr>\n",
       "    <tr>\n",
       "      <th>9</th>\n",
       "      <td>1890</td>\n",
       "      <td>6560</td>\n",
       "    </tr>\n",
       "  </tbody>\n",
       "</table>\n",
       "</div>"
      ],
      "text/plain": [
       "   sqft_living  sqft_lot\n",
       "0         1180      5650\n",
       "1         2570      7242\n",
       "2          770     10000\n",
       "3         1960      5000\n",
       "4         1680      8080\n",
       "5         5420    101930\n",
       "6         1715      6819\n",
       "7         1060      9711\n",
       "8         1780      7470\n",
       "9         1890      6560"
      ]
     },
     "execution_count": 3,
     "metadata": {},
     "output_type": "execute_result"
    }
   ],
   "source": [
    "x = data.iloc[:,5:7]\n",
    "x.head(10)"
   ]
  },
  {
   "cell_type": "code",
   "execution_count": 4,
   "metadata": {},
   "outputs": [
    {
     "data": {
      "text/html": [
       "<div>\n",
       "<style>\n",
       "    .dataframe thead tr:only-child th {\n",
       "        text-align: right;\n",
       "    }\n",
       "\n",
       "    .dataframe thead th {\n",
       "        text-align: left;\n",
       "    }\n",
       "\n",
       "    .dataframe tbody tr th {\n",
       "        vertical-align: top;\n",
       "    }\n",
       "</style>\n",
       "<table border=\"1\" class=\"dataframe\">\n",
       "  <thead>\n",
       "    <tr style=\"text-align: right;\">\n",
       "      <th></th>\n",
       "      <th>price</th>\n",
       "    </tr>\n",
       "  </thead>\n",
       "  <tbody>\n",
       "    <tr>\n",
       "      <th>0</th>\n",
       "      <td>221900</td>\n",
       "    </tr>\n",
       "    <tr>\n",
       "      <th>1</th>\n",
       "      <td>538000</td>\n",
       "    </tr>\n",
       "    <tr>\n",
       "      <th>2</th>\n",
       "      <td>180000</td>\n",
       "    </tr>\n",
       "    <tr>\n",
       "      <th>3</th>\n",
       "      <td>604000</td>\n",
       "    </tr>\n",
       "    <tr>\n",
       "      <th>4</th>\n",
       "      <td>510000</td>\n",
       "    </tr>\n",
       "    <tr>\n",
       "      <th>5</th>\n",
       "      <td>1225000</td>\n",
       "    </tr>\n",
       "    <tr>\n",
       "      <th>6</th>\n",
       "      <td>257500</td>\n",
       "    </tr>\n",
       "    <tr>\n",
       "      <th>7</th>\n",
       "      <td>291850</td>\n",
       "    </tr>\n",
       "    <tr>\n",
       "      <th>8</th>\n",
       "      <td>229500</td>\n",
       "    </tr>\n",
       "    <tr>\n",
       "      <th>9</th>\n",
       "      <td>323000</td>\n",
       "    </tr>\n",
       "  </tbody>\n",
       "</table>\n",
       "</div>"
      ],
      "text/plain": [
       "     price\n",
       "0   221900\n",
       "1   538000\n",
       "2   180000\n",
       "3   604000\n",
       "4   510000\n",
       "5  1225000\n",
       "6   257500\n",
       "7   291850\n",
       "8   229500\n",
       "9   323000"
      ]
     },
     "execution_count": 4,
     "metadata": {},
     "output_type": "execute_result"
    }
   ],
   "source": [
    "y = data.iloc[:,2:3]\n",
    "y.head(10)"
   ]
  },
  {
   "cell_type": "code",
   "execution_count": 5,
   "metadata": {
    "collapsed": true
   },
   "outputs": [],
   "source": [
    "x_train,x_test,y_train,y_test = train_test_split(x,y,test_size=0.2,random_state=1)"
   ]
  },
  {
   "cell_type": "code",
   "execution_count": 6,
   "metadata": {},
   "outputs": [
    {
     "name": "stdout",
     "output_type": "stream",
     "text": [
      "(399, 2) (399, 1)\n",
      "(100, 2) (100, 1)\n"
     ]
    }
   ],
   "source": [
    "print(x_train.shape,y_train.shape)\n",
    "print(x_test.shape,y_test.shape)"
   ]
  },
  {
   "cell_type": "code",
   "execution_count": 7,
   "metadata": {},
   "outputs": [
    {
     "name": "stderr",
     "output_type": "stream",
     "text": [
      "D:\\Anaconda\\lib\\site-packages\\sklearn\\utils\\validation.py:526: DataConversionWarning: A column-vector y was passed when a 1d array was expected. Please change the shape of y to (n_samples, ), for example using ravel().\n",
      "  y = column_or_1d(y, warn=True)\n"
     ]
    },
    {
     "data": {
      "text/plain": [
       "SVC(C=0.8, cache_size=200, class_weight=None, coef0=0.0,\n",
       "  decision_function_shape='ovo', degree=3, gamma=0.1, kernel='rbf',\n",
       "  max_iter=-1, probability=False, random_state=None, shrinking=True,\n",
       "  tol=0.001, verbose=False)"
      ]
     },
     "execution_count": 7,
     "metadata": {},
     "output_type": "execute_result"
    }
   ],
   "source": [
    "classifier = SVC(kernel='rbf',gamma=0.1,decision_function_shape='ovo',C=0.8)\n",
    "classifier.fit(x_train,y_train)"
   ]
  },
  {
   "cell_type": "code",
   "execution_count": 8,
   "metadata": {
    "collapsed": true
   },
   "outputs": [],
   "source": [
    "def show_accuracy(y_hat,y_train,str):\n",
    "    pass"
   ]
  },
  {
   "cell_type": "code",
   "execution_count": 9,
   "metadata": {},
   "outputs": [
    {
     "name": "stdout",
     "output_type": "stream",
     "text": [
      "The accuracy of output training sets: 0.451127819549\n"
     ]
    }
   ],
   "source": [
    "print(\"The accuracy of output training sets:\",classifier.score(x_train,y_train))"
   ]
  },
  {
   "cell_type": "code",
   "execution_count": 10,
   "metadata": {
    "collapsed": true
   },
   "outputs": [],
   "source": [
    "y_hat = classifier.predict(x_train)\n",
    "show_accuracy(y_hat,y_train,'trainng sets')"
   ]
  },
  {
   "cell_type": "code",
   "execution_count": 11,
   "metadata": {
    "collapsed": true
   },
   "outputs": [],
   "source": [
    "y_hat = classifier.predict(x_test)\n",
    "show_accuracy(y_hat,y_test,'testing sets')"
   ]
  },
  {
   "cell_type": "code",
   "execution_count": 12,
   "metadata": {},
   "outputs": [
    {
     "name": "stdout",
     "output_type": "stream",
     "text": [
      "\n",
      "predict:\n",
      " [ 210000  445000  445000  445000  410000  445000  445000  465000  445000\n",
      "  665000  445000  835000  445000  445000  330000  445000  445000  625000\n",
      "  445000  445000  445000  175000  445000  460000  500000  445000  445000\n",
      "  390000  445000  445000  430000  335000  360000  445000  465000  445000\n",
      "  445000  445000  445000  445000  460000  540000  467000  445000  360000\n",
      "  380000  445000  395000  445000  400000  445000  445000  445000  445000\n",
      "  655000  315000  315000  445000  445000  895000  249000  650000  438000\n",
      "  445000  780000  260000  355000  445000  445000  445000  335000  715000\n",
      "  360000  445000  272000  438000  445000  445000  445000  440000  445000\n",
      "  445000  445000  445000  445000  430000  445000  445000  445000  325000\n",
      "  445000  325000  390000  320000  445000  445000  445000  445000  445000\n",
      "  445000  175000  571000  425000  215000  445000  445000  770000  445000\n",
      "  445000  445000  445000  445000  480000  445000  445000  445000  445000\n",
      "  272500  445000  230000  395000  272500  445000  445000  375000  445000\n",
      "  437500  445000  445000  640000  445000  445000  260000  445000  445000\n",
      "  445000  445000  510000  445000  445000  445000  445000  445000  445000\n",
      "  445000  445000  210000  325000  375000  700000  445000  445000  255000\n",
      "  415000  445000  445000  445000  225000  425000  655000  445000  445000\n",
      "  770000  235000  445000  445000  445000  445000  445000  510000  445000\n",
      "  455000  445000  445000  445000  329950  445000  445000  445000  445000\n",
      "  445000  325000  315000  445000  445000  437500  445000  445000  445000\n",
      "  438000  405000  445000  445000  425000  445000  445000  450000 1200000\n",
      "  355000  445000  445000  445000  445000  260000  445000  445000  445000\n",
      "  445000  385000  467000  470000  265000  445000  445000  255000  385000\n",
      "  445000  445000  835000  445000  675000  249000  445000  592500  445000\n",
      "  510000  380000  500000  445000  445000  430000  445000  380000  445000\n",
      "  470000  445000  480000  455000  445000  625000  445000  600000  445000\n",
      "  445000  895000  230000  440000  445000  445000  540000  445000  445000\n",
      "  445000 1200000  445000  445000  650000  430000  400000  665000  445000\n",
      "  470000  445000  715000  445000  445000  445000  445000  320000  225000\n",
      "  445000  445000  445000  445000  550000  445000  385000  550000  390000\n",
      "  445000  210000  480000  425000  329950  445000  415000  445000  600000\n",
      "  525000  445000  445000  445000  275000  445000  445000  445000  445000\n",
      "  445000  445000  305000  445000  330000  225000  565000  445000  445000\n",
      "  445000  235000  285000  675000  445000  269950  445000  445000  215000\n",
      "  445000  540000  405000  445000  445000  290000  445000  290000  445000\n",
      "  445000  445000  445000  525000  233000  445000  425000  650000  445000\n",
      "  445000  470000  520000  445000  445000  380000  685000  445000  445000\n",
      "  445000  445000  520000  445000  445000  445000  445000  445000  445000\n",
      "  265000  445000  445000  445000  245000  685000  445000  445000  285000\n",
      "  445000  385000  445000  445000  445000  305000  780000  210000  445000\n",
      "  445000  445000  445000  550000  650000  415000  233000  445000  445000\n",
      "  445000  245000  450000  269950  445000  500000  410000  325000  565000\n",
      "  430000  500000  425000  700000  445000  445000  272000  592500  571000\n",
      "  275000  445000  640000]\n"
     ]
    }
   ],
   "source": [
    "print('\\npredict:\\n',classifier.predict(x_train))"
   ]
  },
  {
   "cell_type": "code",
   "execution_count": 13,
   "metadata": {},
   "outputs": [
    {
     "name": "stdout",
     "output_type": "stream",
     "text": [
      "\n",
      "predict:\n",
      " [445000 445000 445000 445000 445000 445000 425000 445000 445000 445000\n",
      " 445000 445000 445000 445000 445000 445000 445000 445000 445000 445000\n",
      " 445000 445000 445000 445000 445000 445000 445000 445000 445000 445000\n",
      " 445000 445000 445000 445000 445000 445000 445000 445000 445000 445000\n",
      " 445000 445000 445000 445000 445000 445000 445000 445000 445000 445000\n",
      " 445000 445000 445000 445000 445000 445000 445000 445000 445000 445000\n",
      " 445000 445000 445000 445000 445000 445000 445000 445000 445000 445000\n",
      " 445000 445000 445000 445000 445000 445000 445000 445000 445000 445000\n",
      " 445000 445000 445000 445000 445000 445000 445000 445000 445000 445000\n",
      " 445000 445000 445000 445000 445000 445000 445000 445000 445000 445000]\n"
     ]
    }
   ],
   "source": [
    "print('\\npredict:\\n',classifier.predict(x_test))"
   ]
  },
  {
   "cell_type": "code",
   "execution_count": 14,
   "metadata": {},
   "outputs": [
    {
     "name": "stdout",
     "output_type": "stream",
     "text": [
      "410 6430\n",
      "929 339332\n"
     ]
    }
   ],
   "source": [
    "x1_min,x1_max = x['sqft_living'].min(),x['sqft_living'].max()\n",
    "print(x1_min,x1_max)\n",
    "x2_min,x2_max = x['sqft_lot'].min(),x['sqft_lot'].max()\n",
    "print(x2_min,x2_max)"
   ]
  },
  {
   "cell_type": "code",
   "execution_count": 15,
   "metadata": {
    "collapsed": true
   },
   "outputs": [],
   "source": [
    "x1,x2 = np.mgrid[x1_min:x1_max:200j,x2_min:x2_max:200j]\n",
    "grid_test = np.stack((x1.flat,x2.flat),axis=1)"
   ]
  },
  {
   "cell_type": "code",
   "execution_count": 16,
   "metadata": {},
   "outputs": [
    {
     "name": "stdout",
     "output_type": "stream",
     "text": [
      "grid_test\n",
      " [[    410.             929.        ]\n",
      " [    410.            2629.51758794]\n",
      " [    410.            4330.03517588]\n",
      " ..., \n",
      " [   6430.          335930.96482412]\n",
      " [   6430.          337631.48241206]\n",
      " [   6430.          339332.        ]]\n"
     ]
    }
   ],
   "source": [
    "print(\"grid_test\\n\",grid_test)"
   ]
  },
  {
   "cell_type": "code",
   "execution_count": 17,
   "metadata": {
    "collapsed": true
   },
   "outputs": [],
   "source": [
    "grid_hat = classifier.predict(grid_test)"
   ]
  },
  {
   "cell_type": "code",
   "execution_count": 18,
   "metadata": {},
   "outputs": [
    {
     "name": "stdout",
     "output_type": "stream",
     "text": [
      "grid_hat=\n",
      " [445000 445000 445000 ..., 445000 445000 445000]\n"
     ]
    }
   ],
   "source": [
    "print(\"grid_hat=\\n\",grid_hat)"
   ]
  },
  {
   "cell_type": "code",
   "execution_count": 19,
   "metadata": {
    "collapsed": true
   },
   "outputs": [],
   "source": [
    "grid_hat = grid_hat.reshape(x1.shape)"
   ]
  },
  {
   "cell_type": "code",
   "execution_count": 20,
   "metadata": {
    "collapsed": true
   },
   "outputs": [],
   "source": [
    "alpha = 0.5"
   ]
  },
  {
   "cell_type": "code",
   "execution_count": 21,
   "metadata": {
    "collapsed": true
   },
   "outputs": [],
   "source": [
    "cm_light = mpl.colors.ListedColormap(['#A0FFA0','#FFA0A0','#A0A0FF'])\n",
    "cm_dark = mpl.colors.ListedColormap(['g','r','b'])"
   ]
  },
  {
   "cell_type": "code",
   "execution_count": 22,
   "metadata": {},
   "outputs": [
    {
     "data": {
      "text/plain": [
       "<matplotlib.collections.PathCollection at 0x1d2a35ee710>"
      ]
     },
     "execution_count": 22,
     "metadata": {},
     "output_type": "execute_result"
    }
   ],
   "source": [
    "plt.pcolormesh(x1,x2,grid_hat,cmap = cm_light) #预测值显示\n",
    "plt.plot(x.iloc[:,0],x.iloc[:,1],'o',alpha = 0.5,color='orange',markeredgecolor='k')\n",
    "plt.scatter(x_test.iloc[:,0],x_test.iloc[:,1],s=120,facecolors='none',zorder=10)"
   ]
  },
  {
   "cell_type": "code",
   "execution_count": 23,
   "metadata": {},
   "outputs": [
    {
     "data": {
      "text/plain": [
       "<matplotlib.text.Text at 0x1d2a35b6550>"
      ]
     },
     "execution_count": 23,
     "metadata": {},
     "output_type": "execute_result"
    }
   ],
   "source": [
    "plt.xlabel(\"space for living\",fontsize=13)\n",
    "plt.ylabel(\"space for lot\",fontsize=13)\n",
    "plt.xlim(x1_min,x1_max)\n",
    "plt.ylim(x2_min,x2_max)\n",
    "plt.title(\"Factors Affecting Housing Price\",fontsize=15)"
   ]
  },
  {
   "cell_type": "code",
   "execution_count": 24,
   "metadata": {},
   "outputs": [
    {
     "data": {
      "image/png": "[encoded data removed]",
      "text/plain": [
       "<matplotlib.figure.Figure at 0x1d2a31b55f8>"
      ]
     },
     "metadata": {},
     "output_type": "display_data"
    }
   ],
   "source": [
    "plt.show()"
   ]
  },
  {
   "cell_type": "markdown",
   "metadata": {},
   "source": [
    "predict accuracy"
   ]
  },
  {
   "cell_type": "code",
   "execution_count": 25,
   "metadata": {},
   "outputs": [
    {
     "name": "stdout",
     "output_type": "stream",
     "text": [
      "0.451127819549\n"
     ]
    }
   ],
   "source": [
    "print(classifier.score(x_train,y_train))"
   ]
  },
  {
   "cell_type": "markdown",
   "metadata": {},
   "source": [
    "there are other ways to observe the results\n",
    "First compare the original results with the training set predictions"
   ]
  },
  {
   "cell_type": "code",
   "execution_count": 26,
   "metadata": {
    "collapsed": true
   },
   "outputs": [],
   "source": [
    "y_train_hat = classifier.predict(x_train)\n",
    "y_train_d = y_train.values.reshape((-1))"
   ]
  },
  {
   "cell_type": "code",
   "execution_count": 27,
   "metadata": {},
   "outputs": [
    {
     "name": "stdout",
     "output_type": "stream",
     "text": [
      "[(210000, 210000), (236000, 445000), (951000, 445000), (479500, 445000), (410000, 410000), (381000, 445000), (506000, 445000), (465000, 465000), (555000, 445000), (665000, 665000), (1485000, 445000), (835000, 835000), (822500, 445000), (929950, 445000), (330000, 330000), (222200, 445000), (189000, 445000), (625000, 625000), (533050, 445000), (286000, 445000), (775000, 445000), (175000, 175000), (370000, 445000), (460000, 460000), (500000, 500000), (692000, 445000), (213000, 445000), (390000, 390000), (210490, 445000), (205000, 445000), (430000, 430000), (335000, 335000), (360000, 360000), (244900, 445000), (465000, 465000), (279000, 445000), (270000, 445000), (614000, 445000), (328000, 445000), (519950, 445000), (460000, 460000), (540000, 540000), (467000, 467000), (760500, 445000), (360000, 360000), (380000, 380000), (905000, 445000), (395000, 395000), (252700, 445000), (400000, 400000), (289000, 445000), (1800000, 445000), (605000, 445000), (155000, 445000), (655000, 655000), (315000, 315000), (315000, 315000), (314000, 445000), (181000, 445000), (895000, 895000), (249000, 249000), (650000, 650000), (438000, 438000), (917500, 445000), (780000, 780000), (260000, 260000), (355000, 355000), (559000, 445000), (300000, 445000), (667000, 445000), (335000, 335000), (715000, 715000), (360000, 360000), (274250, 445000), (272000, 272000), (438000, 438000), (1325000, 445000), (690000, 445000), (1099880, 445000), (440000, 440000), (481000, 445000), (587100, 445000), (1450000, 445000), (492000, 445000), (1365000, 445000), (430000, 430000), (660000, 445000), (310000, 445000), (199129, 445000), (325000, 325000), (373000, 445000), (325000, 325000), (390000, 390000), (320000, 320000), (509000, 445000), (269000, 445000), (249950, 445000), (237000, 445000), (733000, 445000), (630000, 445000), (175000, 175000), (571000, 571000), (425000, 425000), (215000, 215000), (195000, 445000), (660500, 445000), (770000, 770000), (673000, 445000), (549950, 445000), (166950, 445000), (530000, 445000), (402000, 445000), (480000, 480000), (445000, 445000), (382500, 445000), (570000, 445000), (345000, 445000), (272500, 272500), (323000, 445000), (230000, 230000), (395000, 395000), (272500, 272500), (221900, 445000), (358000, 445000), (375000, 375000), (331000, 445000), (437500, 437500), (545000, 445000), (485000, 445000), (640000, 640000), (1040000, 445000), (575700, 445000), (260000, 260000), (958000, 445000), (240000, 445000), (532170, 445000), (580000, 445000), (510000, 510000), (441000, 445000), (807100, 445000), (363000, 445000), (677900, 445000), (615000, 445000), (825000, 445000), (114975, 445000), (921500, 445000), (210000, 210000), (325000, 325000), (375000, 375000), (700000, 700000), (427550, 445000), (861990, 445000), (255000, 255000), (415000, 415000), (365000, 445000), (790000, 445000), (1250000, 445000), (225000, 225000), (425000, 425000), (655000, 655000), (314950, 445000), (516500, 445000), (770000, 770000), (235000, 235000), (850830, 445000), (190000, 445000), (585000, 445000), (264950, 445000), (699950, 445000), (510000, 510000), (350000, 445000), (455000, 455000), (247000, 445000), (436000, 445000), (309000, 445000), (329950, 329950), (349900, 445000), (625504, 445000), (680000, 445000), (371500, 445000), (720000, 445000), (325000, 325000), (315000, 315000), (229500, 445000), (687500, 445000), (437500, 437500), (287000, 445000), (422250, 445000), (527000, 445000), (438000, 438000), (405000, 405000), (364988, 445000), (885000, 445000), (425000, 425000), (810000, 445000), (270500, 445000), (450000, 450000), (1200000, 1200000), (355000, 355000), (535000, 445000), (696000, 445000), (549000, 445000), (299990, 445000), (260000, 260000), (475000, 445000), (312000, 445000), (488000, 445000), (760000, 445000), (385000, 385000), (467000, 467000), (470000, 470000), (265000, 265000), (2000000, 445000), (250000, 445000), (255000, 255000), (385000, 385000), (452000, 445000), (329000, 445000), (835000, 835000), (840000, 445000), (675000, 675000), (249000, 249000), (518500, 445000), (592500, 592500), (538500, 445000), (510000, 510000), (380000, 380000), (500000, 500000), (445838, 445000), (292500, 445000), (430000, 430000), (833450, 445000), (380000, 380000), (445000, 445000), (470000, 470000), (199000, 445000), (480000, 480000), (455000, 455000), (171800, 445000), (625000, 625000), (284000, 445000), (600000, 600000), (920000, 445000), (399950, 445000), (895000, 895000), (230000, 230000), (440000, 440000), (434500, 445000), (589000, 445000), (540000, 540000), (1088000, 445000), (686000, 445000), (212000, 445000), (1200000, 1200000), (404000, 445000), (361000, 445000), (650000, 650000), (700000, 430000), (400000, 400000), (665000, 665000), (258000, 445000), (470000, 470000), (282950, 445000), (715000, 715000), (411500, 445000), (662500, 445000), (2900000, 445000), (247500, 445000), (320000, 320000), (225000, 225000), (301000, 445000), (289900, 445000), (691000, 445000), (348000, 445000), (550000, 550000), (975000, 445000), (385000, 385000), (550000, 550000), (390000, 390000), (832500, 445000), (210000, 210000), (480000, 480000), (425000, 425000), (329950, 329950), (511000, 445000), (415000, 415000), (180000, 445000), (600000, 600000), (525000, 525000), (349500, 445000), (435000, 445000), (693000, 445000), (275000, 275000), (324000, 445000), (1090000, 445000), (163500, 445000), (560000, 445000), (594950, 445000), (552500, 445000), (305000, 305000), (349000, 445000), (330000, 330000), (225000, 225000), (565000, 565000), (461000, 445000), (472000, 445000), (420000, 445000), (235000, 235000), (285000, 285000), (675000, 675000), (220000, 445000), (269950, 269950), (356000, 445000), (659000, 445000), (215000, 215000), (417200, 445000), (540000, 540000), (405000, 405000), (445000, 445000), (256883, 445000), (290000, 290000), (340000, 445000), (290000, 290000), (2250000, 445000), (2050000, 445000), (490000, 445000), (479950, 445000), (525000, 525000), (233000, 233000), (423000, 445000), (425000, 425000), (650000, 650000), (446500, 445000), (237500, 445000), (470000, 470000), (520000, 520000), (318000, 445000), (937000, 445000), (380000, 380000), (685000, 685000), (304900, 445000), (604000, 445000), (645000, 445000), (1350000, 445000), (520000, 520000), (305100, 445000), (4489000, 445000), (580500, 445000), (391500, 445000), (880000, 445000), (740500, 445000), (265000, 265000), (1505000, 445000), (369900, 445000), (464000, 445000), (245000, 245000), (685000, 685000), (538000, 445000), (588000, 445000), (285000, 285000), (445000, 445000), (385000, 385000), (291850, 445000), (995000, 445000), (527700, 445000), (305000, 305000), (780000, 780000), (210000, 210000), (280000, 445000), (204000, 445000), (228000, 445000), (445000, 445000), (550000, 550000), (650000, 650000), (415000, 415000), (233000, 233000), (564000, 445000), (1175000, 445000), (649990, 445000), (245000, 245000), (450000, 450000), (269950, 269950), (170000, 445000), (500000, 500000), (410000, 410000), (325000, 325000), (565000, 565000), (430000, 430000), (500000, 500000), (306950, 425000), (700000, 700000), (453246, 445000), (226500, 445000), (272000, 272000), (592500, 592500), (571000, 571000), (275000, 275000), (1025000, 445000), (640000, 640000)]\n"
     ]
    }
   ],
   "source": [
    "comp = zip(y_train_d,y_train_hat)\n",
    "print(list(comp))"
   ]
  },
  {
   "cell_type": "code",
   "execution_count": 28,
   "metadata": {},
   "outputs": [
    {
     "name": "stdout",
     "output_type": "stream",
     "text": [
      "0.0\n",
      "[(597750, 445000), (430000, 445000), (355000, 445000), (399950, 445000), (585188, 445000), (1072000, 445000), (426250, 425000), (500000, 445000), (454280, 445000), (260000, 445000), (490500, 445000), (317625, 445000), (540500, 445000), (279950, 445000), (799000, 445000), (1095000, 445000), (785000, 445000), (139000, 445000), (280000, 445000), (890000, 445000), (940000, 445000), (370000, 445000), (297000, 445000), (653000, 445000), (270000, 445000), (557800, 445000), (322500, 445000), (159075, 445000), (320000, 445000), (505000, 445000), (975000, 445000), (536500, 445000), (499950, 445000), (784000, 445000), (385000, 445000), (315000, 445000), (510000, 445000), (313000, 445000), (380000, 445000), (496000, 445000), (450000, 445000), (975000, 445000), (287000, 445000), (360000, 445000), (455000, 445000), (243500, 445000), (410000, 445000), (830000, 445000), (460000, 445000), (751000, 445000), (625000, 445000), (1225000, 445000), (382888, 445000), (433000, 445000), (380000, 445000), (490000, 445000), (280000, 445000), (485000, 445000), (560000, 445000), (590000, 445000), (900000, 445000), (575000, 445000), (188500, 445000), (301000, 445000), (242000, 445000), (429300, 445000), (205425, 445000), (780000, 445000), (255000, 445000), (415000, 445000), (2400000, 445000), (420000, 445000), (719000, 445000), (199000, 445000), (1010000, 445000), (389999, 445000), (305000, 445000), (416000, 445000), (477000, 445000), (309950, 445000), (396675, 445000), (535000, 445000), (800000, 445000), (404000, 445000), (879000, 445000), (265000, 445000), (330000, 445000), (601150, 445000), (1438890, 445000), (225000, 445000), (550000, 445000), (402000, 445000), (257500, 445000), (291000, 445000), (468000, 445000), (530000, 445000), (153000, 445000), (249000, 445000), (699950, 445000), (180250, 445000)]\n"
     ]
    }
   ],
   "source": [
    "print(classifier.score(x_test,y_test))\n",
    "y_test_hat = classifier.predict(x_test)\n",
    "y_test_d = y_test.values.reshape((-1))\n",
    "comp = zip(y_test_d,y_test_hat)\n",
    "print(list(comp))"
   ]
  },
  {
   "cell_type": "code",
   "execution_count": 29,
   "metadata": {},
   "outputs": [
    {
     "data": {
      "image/png": "[encoded data removed]",
      "text/plain": [
       "<matplotlib.figure.Figure at 0x1d2a3196668>"
      ]
     },
     "metadata": {},
     "output_type": "display_data"
    }
   ],
   "source": [
    "#We could also use plot to visualize\n",
    "plt.figure()\n",
    "plt.subplot(121)\n",
    "plt.scatter(x_train['sqft_living'],x_train['sqft_lot'],c=y_train.values.reshape((-1)),edgecolors='k',s=50)\n",
    "plt.show()"
   ]
  },
  {
   "cell_type": "code",
   "execution_count": 30,
   "metadata": {},
   "outputs": [
    {
     "data": {
      "image/png": "[encoded data removed]",
      "text/plain": [
       "<matplotlib.figure.Figure at 0x1d2a37e14a8>"
      ]
     },
     "metadata": {},
     "output_type": "display_data"
    }
   ],
   "source": [
    "plt.subplot(122)\n",
    "plt.scatter(x_train['sqft_living'],x_train['sqft_lot'],c=y_train_hat.reshape((-1)),edgecolors='k',s=50)\n",
    "plt.show()"
   ]
  },
  {
   "cell_type": "code",
   "execution_count": 31,
   "metadata": {
    "collapsed": true
   },
   "outputs": [],
   "source": [
    "from sklearn.metrics import mean_squared_error\n",
    "from sklearn.metrics import mean_absolute_error\n",
    "from sklearn.metrics import r2_score"
   ]
  },
  {
   "cell_type": "code",
   "execution_count": 32,
   "metadata": {},
   "outputs": [
    {
     "name": "stdout",
     "output_type": "stream",
     "text": [
      "104130782214.0\n"
     ]
    }
   ],
   "source": [
    "mse = mean_squared_error(y_test,y_test_hat)\n",
    "print(mse)"
   ]
  },
  {
   "cell_type": "code",
   "execution_count": 33,
   "metadata": {},
   "outputs": [
    {
     "name": "stdout",
     "output_type": "stream",
     "text": [
      "322693.01544\n"
     ]
    }
   ],
   "source": [
    "rmse = np.sqrt(mse)\n",
    "print(rmse)"
   ]
  },
  {
   "cell_type": "code",
   "execution_count": 34,
   "metadata": {},
   "outputs": [
    {
     "data": {
      "text/plain": [
       "203726.20999999999"
      ]
     },
     "execution_count": 34,
     "metadata": {},
     "output_type": "execute_result"
    }
   ],
   "source": [
    "mean_absolute_error(y_test,y_test_hat)"
   ]
  },
  {
   "cell_type": "code",
   "execution_count": 35,
   "metadata": {},
   "outputs": [
    {
     "data": {
      "text/plain": [
       "-0.05009807551079648"
      ]
     },
     "execution_count": 35,
     "metadata": {},
     "output_type": "execute_result"
    }
   ],
   "source": [
    "r2_score(y_test,y_test_hat)"
   ]
  },
  {
   "cell_type": "code",
   "execution_count": 36,
   "metadata": {},
   "outputs": [
    {
     "name": "stderr",
     "output_type": "stream",
     "text": [
      "D:\\Anaconda\\lib\\site-packages\\sklearn\\cross_validation.py:44: DeprecationWarning: This module was deprecated in version 0.18 in favor of the model_selection module into which all the refactored classes and functions are moved. Also note that the interface of the new CV iterators are different from that of this module. This module will be removed in 0.20.\n",
      "  \"This module will be removed in 0.20.\", DeprecationWarning)\n"
     ]
    }
   ],
   "source": [
    "from sklearn.cross_validation import cross_val_score\n",
    "from sklearn.model_selection import train_test_split\n",
    "from sklearn.neighbors import KNeighborsClassifier"
   ]
  },
  {
   "cell_type": "code",
   "execution_count": 37,
   "metadata": {},
   "outputs": [
    {
     "name": "stderr",
     "output_type": "stream",
     "text": [
      "D:\\Anaconda\\lib\\site-packages\\ipykernel_launcher.py:2: DataConversionWarning: A column-vector y was passed when a 1d array was expected. Please change the shape of y to (n_samples, ), for example using ravel().\n",
      "  \n"
     ]
    },
    {
     "data": {
      "text/plain": [
       "KNeighborsClassifier(algorithm='auto', leaf_size=30, metric='minkowski',\n",
       "           metric_params=None, n_jobs=1, n_neighbors=5, p=2,\n",
       "           weights='uniform')"
      ]
     },
     "execution_count": 37,
     "metadata": {},
     "output_type": "execute_result"
    }
   ],
   "source": [
    "knn = KNeighborsClassifier()\n",
    "knn.fit(x_train,y_train)"
   ]
  },
  {
   "cell_type": "code",
   "execution_count": 38,
   "metadata": {},
   "outputs": [
    {
     "name": "stdout",
     "output_type": "stream",
     "text": [
      "0.187969924812\n"
     ]
    }
   ],
   "source": [
    "print(knn.score(x_train,y_train))"
   ]
  },
  {
   "cell_type": "code",
   "execution_count": 39,
   "metadata": {},
   "outputs": [
    {
     "name": "stdout",
     "output_type": "stream",
     "text": [
      "0.01\n"
     ]
    }
   ],
   "source": [
    "print(knn.score(x_test,y_test))"
   ]
  }
 ],
 "metadata": {
  "kernelspec": {
   "display_name": "Python 3",
   "language": "python",
   "name": "python3"
  },
  "language_info": {
   "codemirror_mode": {
    "name": "ipython",
    "version": 3
   },
   "file_extension": ".py",
   "mimetype": "text/x-python",
   "name": "python",
   "nbconvert_exporter": "python",
   "pygments_lexer": "ipython3",
   "version": "3.6.1"
  }
 },
 "nbformat": 4,
 "nbformat_minor": 2
}
