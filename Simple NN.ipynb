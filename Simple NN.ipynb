{
 "cells": [
  {
   "cell_type": "code",
   "execution_count": 1,
   "metadata": {},
   "outputs": [
    {
     "name": "stderr",
     "output_type": "stream",
     "text": [
      "D:\\Anaconda\\envs\\tensorflow\\lib\\site-packages\\tensorflow\\python\\framework\\dtypes.py:493: FutureWarning: Passing (type, 1) or '1type' as a synonym of type is deprecated; in a future version of numpy, it will be understood as (type, (1,)) / '(1,)type'.\n",
      "  _np_qint8 = np.dtype([(\"qint8\", np.int8, 1)])\n",
      "D:\\Anaconda\\envs\\tensorflow\\lib\\site-packages\\tensorflow\\python\\framework\\dtypes.py:494: FutureWarning: Passing (type, 1) or '1type' as a synonym of type is deprecated; in a future version of numpy, it will be understood as (type, (1,)) / '(1,)type'.\n",
      "  _np_quint8 = np.dtype([(\"quint8\", np.uint8, 1)])\n",
      "D:\\Anaconda\\envs\\tensorflow\\lib\\site-packages\\tensorflow\\python\\framework\\dtypes.py:495: FutureWarning: Passing (type, 1) or '1type' as a synonym of type is deprecated; in a future version of numpy, it will be understood as (type, (1,)) / '(1,)type'.\n",
      "  _np_qint16 = np.dtype([(\"qint16\", np.int16, 1)])\n",
      "D:\\Anaconda\\envs\\tensorflow\\lib\\site-packages\\tensorflow\\python\\framework\\dtypes.py:496: FutureWarning: Passing (type, 1) or '1type' as a synonym of type is deprecated; in a future version of numpy, it will be understood as (type, (1,)) / '(1,)type'.\n",
      "  _np_quint16 = np.dtype([(\"quint16\", np.uint16, 1)])\n",
      "D:\\Anaconda\\envs\\tensorflow\\lib\\site-packages\\tensorflow\\python\\framework\\dtypes.py:497: FutureWarning: Passing (type, 1) or '1type' as a synonym of type is deprecated; in a future version of numpy, it will be understood as (type, (1,)) / '(1,)type'.\n",
      "  _np_qint32 = np.dtype([(\"qint32\", np.int32, 1)])\n",
      "D:\\Anaconda\\envs\\tensorflow\\lib\\site-packages\\tensorflow\\python\\framework\\dtypes.py:502: FutureWarning: Passing (type, 1) or '1type' as a synonym of type is deprecated; in a future version of numpy, it will be understood as (type, (1,)) / '(1,)type'.\n",
      "  np_resource = np.dtype([(\"resource\", np.ubyte, 1)])\n"
     ]
    }
   ],
   "source": [
    "import numpy as np\n",
    "import tensorflow as tf\n",
    "import matplotlib.pyplot as plt\n",
    "import input_data"
   ]
  },
  {
   "cell_type": "code",
   "execution_count": 2,
   "metadata": {},
   "outputs": [
    {
     "name": "stdout",
     "output_type": "stream",
     "text": [
      "Extracting data/train-images-idx3-ubyte.gz\n",
      "Extracting data/train-labels-idx1-ubyte.gz\n",
      "Extracting data/t10k-images-idx3-ubyte.gz\n",
      "Extracting data/t10k-labels-idx1-ubyte.gz\n"
     ]
    }
   ],
   "source": [
    "mnist = input_data.read_data_sets('data/',one_hot = True)"
   ]
  },
  {
   "cell_type": "code",
   "execution_count": 3,
   "metadata": {
    "collapsed": true
   },
   "outputs": [],
   "source": [
    "#NETWORK TECHNOLOGIES\n",
    "n_hidden_1 = 256 #第一个隐藏层的神经元数\n",
    "n_hidden_2 = 128 #第二个隐藏层的神经元数\n",
    "n_input = 784 #输入的像素\n",
    "n_classes = 10 #输出的label"
   ]
  },
  {
   "cell_type": "markdown",
   "metadata": {},
   "source": [
    "INPUTS AND OUTPUTS"
   ]
  },
  {
   "cell_type": "code",
   "execution_count": 4,
   "metadata": {
    "collapsed": true
   },
   "outputs": [],
   "source": [
    "x = tf.placeholder(\"float\",[None,n_input])\n",
    "y = tf.placeholder(\"float\",[None,n_classes])"
   ]
  },
  {
   "cell_type": "code",
   "execution_count": 5,
   "metadata": {},
   "outputs": [
    {
     "name": "stdout",
     "output_type": "stream",
     "text": [
      "NETWORK READ\n"
     ]
    }
   ],
   "source": [
    "stddev = 0.1\n",
    "weights = {\n",
    "    \"w1\":tf.Variable(tf.random_normal([n_input,n_hidden_1],stddev = stddev)),\n",
    "    \"w2\":tf.Variable(tf.random_normal([n_hidden_1,n_hidden_2],stddev = stddev)),\n",
    "    \"out\":tf.Variable(tf.random_normal([n_hidden_2,n_classes],stddev = stddev))\n",
    "}\n",
    "biases = {\n",
    "    \"b1\":tf.Variable(tf.random_normal([n_hidden_1])),\n",
    "    \"b2\":tf.Variable(tf.random_normal([n_hidden_2])),\n",
    "    \"out\":tf.Variable(tf.random_normal([n_classes]))\n",
    "}\n",
    "print(\"NETWORK READ\")"
   ]
  },
  {
   "cell_type": "code",
   "execution_count": 6,
   "metadata": {
    "collapsed": true
   },
   "outputs": [],
   "source": [
    "#s激活函数，进行数据的操作 （BP算法）\n",
    "def multilayer_perceotron(_X, _weights, _biases):\n",
    "    layer_1=tf.nn.sigmoid(tf.add(tf.matmul(_X, _weights['w1']),_biases['b1']))#每次wx+b之后经过sigmoid函数激活\n",
    "    layer_2=tf.nn.sigmoid(tf.add(tf.matmul(layer_1, _weights['w2']),_biases['b2']))\n",
    "    return (tf.matmul(layer_2, _weights['out'])+_biases['out'])#返回的是10个输出"
   ]
  },
  {
   "cell_type": "code",
   "execution_count": 7,
   "metadata": {
    "collapsed": true
   },
   "outputs": [],
   "source": [
    "pred = multilayer_perceotron(x,weights,biases)"
   ]
  },
  {
   "cell_type": "code",
   "execution_count": 8,
   "metadata": {},
   "outputs": [
    {
     "name": "stdout",
     "output_type": "stream",
     "text": [
      "WARNING:tensorflow:From <ipython-input-8-e62d7c786201>:2: softmax_cross_entropy_with_logits (from tensorflow.python.ops.nn_ops) is deprecated and will be removed in a future version.\n",
      "Instructions for updating:\n",
      "\n",
      "Future major versions of TensorFlow will allow gradients to flow\n",
      "into the labels input on backprop by default.\n",
      "\n",
      "See tf.nn.softmax_cross_entropy_with_logits_v2.\n",
      "\n"
     ]
    }
   ],
   "source": [
    "#损失函数 softmax_cross_entropy_with_logits中0.x版本和1.x不同的是1.x要加logits和labels\n",
    "cost=tf.reduce_mean(tf.nn.softmax_cross_entropy_with_logits(logits=pred,labels=y))"
   ]
  },
  {
   "cell_type": "code",
   "execution_count": 9,
   "metadata": {},
   "outputs": [
    {
     "name": "stdout",
     "output_type": "stream",
     "text": [
      "FUNCTIONS READY\n"
     ]
    }
   ],
   "source": [
    "optm=tf.train.GradientDescentOptimizer(learning_rate=0.001).minimize(cost)\n",
    "#如果相等返回true，不等返回flase\n",
    "corr=tf.equal(tf.argmax(pred,1),tf.argmax(y,1))\n",
    "#把true转为1，false为0，再相加，计算总的（正确率）\n",
    "accr=tf.reduce_mean(tf.cast(corr,\"float\"))\n",
    "\n",
    "#初始化\n",
    "init=tf.global_variables_initializer()\n",
    "print (\"FUNCTIONS READY\")"
   ]
  },
  {
   "cell_type": "code",
   "execution_count": 10,
   "metadata": {
    "collapsed": true
   },
   "outputs": [],
   "source": [
    "#model training\n",
    "training_epochs = 50 #iterator times\n",
    "batch_size = 100#每次处理图片数\n",
    "display_step = 4 #每四次打印一次"
   ]
  },
  {
   "cell_type": "code",
   "execution_count": 11,
   "metadata": {
    "collapsed": true
   },
   "outputs": [],
   "source": [
    "sess = tf.Session()\n",
    "sess.run(init)"
   ]
  },
  {
   "cell_type": "code",
   "execution_count": 12,
   "metadata": {},
   "outputs": [
    {
     "name": "stdout",
     "output_type": "stream",
     "text": [
      "Epoch:003050 cost: 2.280666016\n",
      "TRAIN ACCURACY: 0.190\n",
      "TEST ACCURACY:0.168\n",
      "Epoch:007050 cost: 2.248386611\n",
      "TRAIN ACCURACY: 0.310\n",
      "TEST ACCURACY:0.259\n",
      "Epoch:011050 cost: 2.212998214\n",
      "TRAIN ACCURACY: 0.330\n",
      "TEST ACCURACY:0.361\n",
      "Epoch:015050 cost: 2.172195342\n",
      "TRAIN ACCURACY: 0.430\n",
      "TEST ACCURACY:0.459\n",
      "Epoch:019050 cost: 2.123743428\n",
      "TRAIN ACCURACY: 0.490\n",
      "TEST ACCURACY:0.513\n",
      "Epoch:023050 cost: 2.065429525\n",
      "TRAIN ACCURACY: 0.590\n",
      "TEST ACCURACY:0.561\n",
      "Epoch:027050 cost: 1.995689672\n",
      "TRAIN ACCURACY: 0.610\n",
      "TEST ACCURACY:0.592\n",
      "Epoch:031050 cost: 1.914001073\n",
      "TRAIN ACCURACY: 0.540\n",
      "TEST ACCURACY:0.611\n",
      "Epoch:035050 cost: 1.821639061\n",
      "TRAIN ACCURACY: 0.620\n",
      "TEST ACCURACY:0.635\n",
      "Epoch:039050 cost: 1.721561847\n",
      "TRAIN ACCURACY: 0.650\n",
      "TEST ACCURACY:0.655\n",
      "Epoch:043050 cost: 1.617711098\n",
      "TRAIN ACCURACY: 0.640\n",
      "TEST ACCURACY:0.680\n",
      "Epoch:047050 cost: 1.514276864\n",
      "TRAIN ACCURACY: 0.620\n",
      "TEST ACCURACY:0.696\n",
      "OPTIMIZATION FINISHED\n"
     ]
    }
   ],
   "source": [
    "for epoch in range(training_epochs):\n",
    "    avg_cost = 0 #平均误差\n",
    "    total_batch = int(mnist.train.num_examples/batch_size)\n",
    "    #ITERRATION\n",
    "    for i in range(total_batch):\n",
    "        batch_xs,batch_ys = mnist.train.next_batch(batch_size)\n",
    "        feeds = {x:batch_xs,y:batch_ys}\n",
    "        sess.run(optm,feed_dict = feeds)\n",
    "        avg_cost= avg_cost + sess.run(cost,feed_dict = feeds)\n",
    "    avg_cost = avg_cost/total_batch\n",
    "    # DISPLAY\n",
    "    if (epoch+1) % display_step == 0:\n",
    "        print (\"Epoch:%03d%03d cost: %.9f\" % (epoch,training_epochs,avg_cost))\n",
    "        feeds = {x:batch_xs,y:batch_ys}\n",
    "        train_acc = sess.run(accr,feed_dict = feeds)\n",
    "        print(\"TRAIN ACCURACY: %.3f\" %(train_acc))\n",
    "        feeds = {x:mnist.test.images,y:mnist.test.labels}\n",
    "        test_acc = sess.run(accr,feed_dict = feeds)\n",
    "        print(\"TEST ACCURACY:%.3f\" %(test_acc))\n",
    "print(\"OPTIMIZATION FINISHED\")"
   ]
  }
 ],
 "metadata": {
  "kernelspec": {
   "display_name": "Python 3",
   "language": "python",
   "name": "python3"
  },
  "language_info": {
   "codemirror_mode": {
    "name": "ipython",
    "version": 3
   },
   "file_extension": ".py",
   "mimetype": "text/x-python",
   "name": "python",
   "nbconvert_exporter": "python",
   "pygments_lexer": "ipython3",
   "version": "3.6.1"
  }
 },
 "nbformat": 4,
 "nbformat_minor": 2
}
